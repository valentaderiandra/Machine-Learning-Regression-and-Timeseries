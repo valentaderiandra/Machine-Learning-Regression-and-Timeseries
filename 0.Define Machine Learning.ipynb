{
 "cells": [
  {
   "cell_type": "markdown",
   "id": "f33d2a33",
   "metadata": {},
   "source": [
    "# 0.Define Machine Learning"
   ]
  },
  {
   "cell_type": "markdown",
   "id": "d20c8183",
   "metadata": {},
   "source": [
    "Machine Learning Terms:\n",
    "- There must be data\n",
    "- The data must be patterned\n",
    "- The algorithm is already difficult to solve"
   ]
  },
  {
   "cell_type": "markdown",
   "id": "36512230",
   "metadata": {},
   "source": [
    "Machine Learning Workflow :\n",
    "* 1.Data Profiling \n",
    "* 2.Data Cleansing\n",
    "* 3.Data Exploration\n",
    "* 4.Feature Engineering\n",
    "* 5.Modeling\n",
    "* 6.Evalution & Deployment"
   ]
  },
  {
   "cell_type": "code",
   "execution_count": null,
   "id": "caedc73c",
   "metadata": {},
   "outputs": [],
   "source": []
  }
 ],
 "metadata": {
  "kernelspec": {
   "display_name": "Python 3 (ipykernel)",
   "language": "python",
   "name": "python3"
  },
  "language_info": {
   "codemirror_mode": {
    "name": "ipython",
    "version": 3
   },
   "file_extension": ".py",
   "mimetype": "text/x-python",
   "name": "python",
   "nbconvert_exporter": "python",
   "pygments_lexer": "ipython3",
   "version": "3.9.12"
  }
 },
 "nbformat": 4,
 "nbformat_minor": 5
}
