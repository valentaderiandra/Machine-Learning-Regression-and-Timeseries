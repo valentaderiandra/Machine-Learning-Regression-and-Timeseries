{
 "cells": [
  {
   "cell_type": "markdown",
   "id": "3b0ee6dd",
   "metadata": {},
   "source": [
    "# Time Series Forcasting"
   ]
  },
  {
   "cell_type": "markdown",
   "id": "553fdfc1",
   "metadata": {},
   "source": [
    "Time series analysis is a specific way of analyzing a sequence of data points collected over an interval of time. In time series analysis, analysts record data points at consistent intervals over a set period of time rather than just recording the data points intermittently or randomly.\n",
    "\n",
    "Prophet is a procedure for forecasting time series data based on an additive model where non-linear trends are fit with yearly, weekly, and daily seasonality, plus holiday effects. It works best with time series that have strong seasonal effects and several seasons of historical data. Prophet is robust to missing data and shifts in the trend, and typically handles outliers well."
   ]
  },
  {
   "cell_type": "markdown",
   "id": "a8344d29",
   "metadata": {},
   "source": [
    "Time Series Forecasting is not a machine learning regression"
   ]
  },
  {
   "cell_type": "markdown",
   "id": "277fb608",
   "metadata": {},
   "source": [
    "* Install Prophet"
   ]
  },
  {
   "cell_type": "code",
   "execution_count": 1,
   "id": "e0682553",
   "metadata": {},
   "outputs": [],
   "source": [
    "# %pip install Prophet"
   ]
  },
  {
   "cell_type": "markdown",
   "id": "23b52666",
   "metadata": {},
   "source": [
    "* Import Packages\n"
   ]
  },
  {
   "cell_type": "code",
   "execution_count": 2,
   "id": "6e9d225b",
   "metadata": {},
   "outputs": [],
   "source": [
    "import pandas as pd\n",
    "import numpy as np\n",
    "import matplotlib.pyplot as plt\n",
    "import sklearn\n",
    "\n",
    "from prophet import Prophet\n",
    "from sklearn.metrics import mean_absolute_percentage_error\n",
    "\n",
    "import warnings\n",
    "warnings.filterwarnings('ignore')"
   ]
  },
  {
   "cell_type": "code",
   "execution_count": 3,
   "id": "89b2dc54",
   "metadata": {},
   "outputs": [
    {
     "data": {
      "text/html": [
       "<div>\n",
       "<style scoped>\n",
       "    .dataframe tbody tr th:only-of-type {\n",
       "        vertical-align: middle;\n",
       "    }\n",
       "\n",
       "    .dataframe tbody tr th {\n",
       "        vertical-align: top;\n",
       "    }\n",
       "\n",
       "    .dataframe thead th {\n",
       "        text-align: right;\n",
       "    }\n",
       "</style>\n",
       "<table border=\"1\" class=\"dataframe\">\n",
       "  <thead>\n",
       "    <tr style=\"text-align: right;\">\n",
       "      <th></th>\n",
       "      <th>Month</th>\n",
       "      <th>Sales</th>\n",
       "    </tr>\n",
       "  </thead>\n",
       "  <tbody>\n",
       "    <tr>\n",
       "      <th>0</th>\n",
       "      <td>1960-01</td>\n",
       "      <td>6550</td>\n",
       "    </tr>\n",
       "    <tr>\n",
       "      <th>1</th>\n",
       "      <td>1960-02</td>\n",
       "      <td>8728</td>\n",
       "    </tr>\n",
       "    <tr>\n",
       "      <th>2</th>\n",
       "      <td>1960-03</td>\n",
       "      <td>12026</td>\n",
       "    </tr>\n",
       "    <tr>\n",
       "      <th>3</th>\n",
       "      <td>1960-04</td>\n",
       "      <td>14395</td>\n",
       "    </tr>\n",
       "    <tr>\n",
       "      <th>4</th>\n",
       "      <td>1960-05</td>\n",
       "      <td>14587</td>\n",
       "    </tr>\n",
       "    <tr>\n",
       "      <th>5</th>\n",
       "      <td>1960-06</td>\n",
       "      <td>13791</td>\n",
       "    </tr>\n",
       "    <tr>\n",
       "      <th>6</th>\n",
       "      <td>1960-07</td>\n",
       "      <td>9498</td>\n",
       "    </tr>\n",
       "    <tr>\n",
       "      <th>7</th>\n",
       "      <td>1960-08</td>\n",
       "      <td>8251</td>\n",
       "    </tr>\n",
       "    <tr>\n",
       "      <th>8</th>\n",
       "      <td>1960-09</td>\n",
       "      <td>7049</td>\n",
       "    </tr>\n",
       "    <tr>\n",
       "      <th>9</th>\n",
       "      <td>1960-10</td>\n",
       "      <td>9545</td>\n",
       "    </tr>\n",
       "  </tbody>\n",
       "</table>\n",
       "</div>"
      ],
      "text/plain": [
       "     Month  Sales\n",
       "0  1960-01   6550\n",
       "1  1960-02   8728\n",
       "2  1960-03  12026\n",
       "3  1960-04  14395\n",
       "4  1960-05  14587\n",
       "5  1960-06  13791\n",
       "6  1960-07   9498\n",
       "7  1960-08   8251\n",
       "8  1960-09   7049\n",
       "9  1960-10   9545"
      ]
     },
     "execution_count": 3,
     "metadata": {},
     "output_type": "execute_result"
    }
   ],
   "source": [
    "df = pd.read_csv(r\"C:\\Users\\HP\\1.Myedusolve\\3.Machine Learning\\Versi Indo\\monthly-car-sales.csv\")\n",
    "df.head(10)"
   ]
  },
  {
   "cell_type": "markdown",
   "id": "db14e140",
   "metadata": {},
   "source": [
    "# 1.Data Profiling"
   ]
  },
  {
   "cell_type": "markdown",
   "id": "da854b2a",
   "metadata": {},
   "source": [
    "Data profiling used to find out information on data"
   ]
  },
  {
   "cell_type": "code",
   "execution_count": 4,
   "id": "83f24565",
   "metadata": {},
   "outputs": [
    {
     "name": "stdout",
     "output_type": "stream",
     "text": [
      "<class 'pandas.core.frame.DataFrame'>\n",
      "RangeIndex: 108 entries, 0 to 107\n",
      "Data columns (total 2 columns):\n",
      " #   Column  Non-Null Count  Dtype \n",
      "---  ------  --------------  ----- \n",
      " 0   Month   108 non-null    object\n",
      " 1   Sales   108 non-null    int64 \n",
      "dtypes: int64(1), object(1)\n",
      "memory usage: 1.8+ KB\n"
     ]
    }
   ],
   "source": [
    "df.info()"
   ]
  },
  {
   "cell_type": "markdown",
   "id": "bf266d16",
   "metadata": {},
   "source": [
    "* see missing values ​​in data"
   ]
  },
  {
   "cell_type": "code",
   "execution_count": 5,
   "id": "59f7a1a3",
   "metadata": {},
   "outputs": [
    {
     "data": {
      "text/plain": [
       "Month    0\n",
       "Sales    0\n",
       "dtype: int64"
      ]
     },
     "execution_count": 5,
     "metadata": {},
     "output_type": "execute_result"
    }
   ],
   "source": [
    "df.isna().sum()"
   ]
  },
  {
   "cell_type": "markdown",
   "id": "c1b1e3bd",
   "metadata": {},
   "source": [
    "* see missing data type"
   ]
  },
  {
   "cell_type": "code",
   "execution_count": 6,
   "id": "f8423b04",
   "metadata": {},
   "outputs": [
    {
     "data": {
      "text/plain": [
       "Month    object\n",
       "Sales     int64\n",
       "dtype: object"
      ]
     },
     "execution_count": 6,
     "metadata": {},
     "output_type": "execute_result"
    }
   ],
   "source": [
    "df.dtypes"
   ]
  },
  {
   "cell_type": "markdown",
   "id": "1544f614",
   "metadata": {},
   "source": [
    "Should be for data types in Month should be date or datetime data type"
   ]
  },
  {
   "cell_type": "markdown",
   "id": "b29c43f1",
   "metadata": {},
   "source": [
    "# 2.Data Cleansing"
   ]
  },
  {
   "cell_type": "markdown",
   "id": "2614eb53",
   "metadata": {},
   "source": [
    "* Change the Month data type from string to datetime"
   ]
  },
  {
   "cell_type": "code",
   "execution_count": 7,
   "id": "62d69342",
   "metadata": {},
   "outputs": [],
   "source": [
    "df['Month']=pd.to_datetime(df['Month'])"
   ]
  },
  {
   "cell_type": "markdown",
   "id": "e2702eed",
   "metadata": {},
   "source": [
    "* change columns name"
   ]
  },
  {
   "cell_type": "code",
   "execution_count": 8,
   "id": "be2609b3",
   "metadata": {},
   "outputs": [],
   "source": [
    "df.columns=['ds','y']"
   ]
  },
  {
   "cell_type": "code",
   "execution_count": 9,
   "id": "b9f19c75",
   "metadata": {},
   "outputs": [
    {
     "name": "stdout",
     "output_type": "stream",
     "text": [
      "<class 'pandas.core.frame.DataFrame'>\n",
      "RangeIndex: 108 entries, 0 to 107\n",
      "Data columns (total 2 columns):\n",
      " #   Column  Non-Null Count  Dtype         \n",
      "---  ------  --------------  -----         \n",
      " 0   ds      108 non-null    datetime64[ns]\n",
      " 1   y       108 non-null    int64         \n",
      "dtypes: datetime64[ns](1), int64(1)\n",
      "memory usage: 1.8 KB\n"
     ]
    }
   ],
   "source": [
    "df.info()"
   ]
  },
  {
   "cell_type": "markdown",
   "id": "7d67c8a9",
   "metadata": {},
   "source": [
    "# 3.Exploratory Data Analysis (EDA)"
   ]
  },
  {
   "cell_type": "markdown",
   "id": "0439c22c",
   "metadata": {},
   "source": [
    "* Time series plot"
   ]
  },
  {
   "cell_type": "code",
   "execution_count": 10,
   "id": "6f71c1db",
   "metadata": {},
   "outputs": [
    {
     "data": {
      "image/png": "[encoded data removed]",
      "text/plain": [
       "<Figure size 1152x648 with 1 Axes>"
      ]
     },
     "metadata": {
      "needs_background": "light"
     },
     "output_type": "display_data"
    }
   ],
   "source": [
    "plt.figure(figsize=(16,9))\n",
    "df['y'].plot()\n",
    "plt.show()"
   ]
  },
  {
   "cell_type": "markdown",
   "id": "bfa95db5",
   "metadata": {},
   "source": [
    "# 4.Feature Engineering"
   ]
  },
  {
   "cell_type": "markdown",
   "id": "a52f2c42",
   "metadata": {},
   "source": [
    "## 4.1 Preprocessing Modeling"
   ]
  },
  {
   "cell_type": "markdown",
   "id": "cf330625",
   "metadata": {},
   "source": [
    "Create training data and testing data"
   ]
  },
  {
   "cell_type": "markdown",
   "id": "83bca621",
   "metadata": {},
   "source": [
    "* Train Test"
   ]
  },
  {
   "cell_type": "code",
   "execution_count": 11,
   "id": "b5bb9c21",
   "metadata": {},
   "outputs": [],
   "source": [
    "# Feature Selection"
   ]
  },
  {
   "cell_type": "code",
   "execution_count": 12,
   "id": "632787a9",
   "metadata": {},
   "outputs": [],
   "source": [
    "train = df.drop(df.index[-12:]) #drop last twelve\n",
    "test = df.drop(df.index[:-12]) #choose last twelve months"
   ]
  },
  {
   "cell_type": "code",
   "execution_count": 13,
   "id": "531e58cf",
   "metadata": {},
   "outputs": [
    {
     "data": {
      "text/html": [
       "<div>\n",
       "<style scoped>\n",
       "    .dataframe tbody tr th:only-of-type {\n",
       "        vertical-align: middle;\n",
       "    }\n",
       "\n",
       "    .dataframe tbody tr th {\n",
       "        vertical-align: top;\n",
       "    }\n",
       "\n",
       "    .dataframe thead th {\n",
       "        text-align: right;\n",
       "    }\n",
       "</style>\n",
       "<table border=\"1\" class=\"dataframe\">\n",
       "  <thead>\n",
       "    <tr style=\"text-align: right;\">\n",
       "      <th></th>\n",
       "      <th>ds</th>\n",
       "      <th>y</th>\n",
       "    </tr>\n",
       "  </thead>\n",
       "  <tbody>\n",
       "    <tr>\n",
       "      <th>91</th>\n",
       "      <td>1967-08-01</td>\n",
       "      <td>13434</td>\n",
       "    </tr>\n",
       "    <tr>\n",
       "      <th>92</th>\n",
       "      <td>1967-09-01</td>\n",
       "      <td>13598</td>\n",
       "    </tr>\n",
       "    <tr>\n",
       "      <th>93</th>\n",
       "      <td>1967-10-01</td>\n",
       "      <td>17187</td>\n",
       "    </tr>\n",
       "    <tr>\n",
       "      <th>94</th>\n",
       "      <td>1967-11-01</td>\n",
       "      <td>16119</td>\n",
       "    </tr>\n",
       "    <tr>\n",
       "      <th>95</th>\n",
       "      <td>1967-12-01</td>\n",
       "      <td>13713</td>\n",
       "    </tr>\n",
       "  </tbody>\n",
       "</table>\n",
       "</div>"
      ],
      "text/plain": [
       "           ds      y\n",
       "91 1967-08-01  13434\n",
       "92 1967-09-01  13598\n",
       "93 1967-10-01  17187\n",
       "94 1967-11-01  16119\n",
       "95 1967-12-01  13713"
      ]
     },
     "execution_count": 13,
     "metadata": {},
     "output_type": "execute_result"
    }
   ],
   "source": [
    "train.tail()"
   ]
  },
  {
   "cell_type": "code",
   "execution_count": 14,
   "id": "ab89b6b5",
   "metadata": {},
   "outputs": [
    {
     "data": {
      "text/html": [
       "<div>\n",
       "<style scoped>\n",
       "    .dataframe tbody tr th:only-of-type {\n",
       "        vertical-align: middle;\n",
       "    }\n",
       "\n",
       "    .dataframe tbody tr th {\n",
       "        vertical-align: top;\n",
       "    }\n",
       "\n",
       "    .dataframe thead th {\n",
       "        text-align: right;\n",
       "    }\n",
       "</style>\n",
       "<table border=\"1\" class=\"dataframe\">\n",
       "  <thead>\n",
       "    <tr style=\"text-align: right;\">\n",
       "      <th></th>\n",
       "      <th>ds</th>\n",
       "      <th>y</th>\n",
       "    </tr>\n",
       "  </thead>\n",
       "  <tbody>\n",
       "    <tr>\n",
       "      <th>96</th>\n",
       "      <td>1968-01-01</td>\n",
       "      <td>13210</td>\n",
       "    </tr>\n",
       "    <tr>\n",
       "      <th>97</th>\n",
       "      <td>1968-02-01</td>\n",
       "      <td>14251</td>\n",
       "    </tr>\n",
       "    <tr>\n",
       "      <th>98</th>\n",
       "      <td>1968-03-01</td>\n",
       "      <td>20139</td>\n",
       "    </tr>\n",
       "    <tr>\n",
       "      <th>99</th>\n",
       "      <td>1968-04-01</td>\n",
       "      <td>21725</td>\n",
       "    </tr>\n",
       "    <tr>\n",
       "      <th>100</th>\n",
       "      <td>1968-05-01</td>\n",
       "      <td>26099</td>\n",
       "    </tr>\n",
       "  </tbody>\n",
       "</table>\n",
       "</div>"
      ],
      "text/plain": [
       "            ds      y\n",
       "96  1968-01-01  13210\n",
       "97  1968-02-01  14251\n",
       "98  1968-03-01  20139\n",
       "99  1968-04-01  21725\n",
       "100 1968-05-01  26099"
      ]
     },
     "execution_count": 14,
     "metadata": {},
     "output_type": "execute_result"
    }
   ],
   "source": [
    "test.head()"
   ]
  },
  {
   "cell_type": "code",
   "execution_count": 15,
   "id": "b7f55528",
   "metadata": {},
   "outputs": [],
   "source": [
    "x_train = pd.DataFrame(train['ds'])\n",
    "y_train = pd.DataFrame(train['y'])"
   ]
  },
  {
   "cell_type": "code",
   "execution_count": 16,
   "id": "6cc79982",
   "metadata": {},
   "outputs": [],
   "source": [
    "x_test = pd.DataFrame(test['ds'])\n",
    "y_test = pd.DataFrame(test['y'])"
   ]
  },
  {
   "cell_type": "markdown",
   "id": "8e1918cf",
   "metadata": {},
   "source": [
    "# 5.Modelling"
   ]
  },
  {
   "cell_type": "markdown",
   "id": "c0d723dc",
   "metadata": {},
   "source": [
    "Making models using Prophet"
   ]
  },
  {
   "cell_type": "code",
   "execution_count": 17,
   "id": "5ba48fe4",
   "metadata": {},
   "outputs": [
    {
     "name": "stderr",
     "output_type": "stream",
     "text": [
      "01:20:05 - cmdstanpy - INFO - Chain [1] start processing\n",
      "01:20:06 - cmdstanpy - INFO - Chain [1] done processing\n"
     ]
    },
    {
     "data": {
      "text/plain": [
       "<prophet.forecaster.Prophet at 0x269c28b0ca0>"
      ]
     },
     "execution_count": 17,
     "metadata": {},
     "output_type": "execute_result"
    }
   ],
   "source": [
    "model = Prophet()\n",
    "model.fit(train)"
   ]
  },
  {
   "cell_type": "markdown",
   "id": "13d5a787",
   "metadata": {},
   "source": [
    "Make predictions from testing data"
   ]
  },
  {
   "cell_type": "code",
   "execution_count": 18,
   "id": "c5f023af",
   "metadata": {},
   "outputs": [],
   "source": [
    "y_pred = model.predict(x_test)"
   ]
  },
  {
   "cell_type": "code",
   "execution_count": 19,
   "id": "3b7dbf24",
   "metadata": {},
   "outputs": [
    {
     "data": {
      "text/html": [
       "<div>\n",
       "<style scoped>\n",
       "    .dataframe tbody tr th:only-of-type {\n",
       "        vertical-align: middle;\n",
       "    }\n",
       "\n",
       "    .dataframe tbody tr th {\n",
       "        vertical-align: top;\n",
       "    }\n",
       "\n",
       "    .dataframe thead th {\n",
       "        text-align: right;\n",
       "    }\n",
       "</style>\n",
       "<table border=\"1\" class=\"dataframe\">\n",
       "  <thead>\n",
       "    <tr style=\"text-align: right;\">\n",
       "      <th></th>\n",
       "      <th>ds</th>\n",
       "      <th>trend</th>\n",
       "      <th>yhat_lower</th>\n",
       "      <th>yhat_upper</th>\n",
       "      <th>trend_lower</th>\n",
       "      <th>trend_upper</th>\n",
       "      <th>additive_terms</th>\n",
       "      <th>additive_terms_lower</th>\n",
       "      <th>additive_terms_upper</th>\n",
       "      <th>yearly</th>\n",
       "      <th>yearly_lower</th>\n",
       "      <th>yearly_upper</th>\n",
       "      <th>multiplicative_terms</th>\n",
       "      <th>multiplicative_terms_lower</th>\n",
       "      <th>multiplicative_terms_upper</th>\n",
       "      <th>yhat</th>\n",
       "    </tr>\n",
       "  </thead>\n",
       "  <tbody>\n",
       "    <tr>\n",
       "      <th>0</th>\n",
       "      <td>1968-01-01</td>\n",
       "      <td>17591.493764</td>\n",
       "      <td>12996.734851</td>\n",
       "      <td>16077.852457</td>\n",
       "      <td>17591.386779</td>\n",
       "      <td>17591.694587</td>\n",
       "      <td>-3078.509368</td>\n",
       "      <td>-3078.509368</td>\n",
       "      <td>-3078.509368</td>\n",
       "      <td>-3078.509368</td>\n",
       "      <td>-3078.509368</td>\n",
       "      <td>-3078.509368</td>\n",
       "      <td>0.0</td>\n",
       "      <td>0.0</td>\n",
       "      <td>0.0</td>\n",
       "      <td>14512.984397</td>\n",
       "    </tr>\n",
       "    <tr>\n",
       "      <th>1</th>\n",
       "      <td>1968-02-01</td>\n",
       "      <td>17639.350206</td>\n",
       "      <td>13403.617398</td>\n",
       "      <td>16492.647041</td>\n",
       "      <td>17637.649451</td>\n",
       "      <td>17641.144495</td>\n",
       "      <td>-2708.444577</td>\n",
       "      <td>-2708.444577</td>\n",
       "      <td>-2708.444577</td>\n",
       "      <td>-2708.444577</td>\n",
       "      <td>-2708.444577</td>\n",
       "      <td>-2708.444577</td>\n",
       "      <td>0.0</td>\n",
       "      <td>0.0</td>\n",
       "      <td>0.0</td>\n",
       "      <td>14930.905629</td>\n",
       "    </tr>\n",
       "    <tr>\n",
       "      <th>2</th>\n",
       "      <td>1968-03-01</td>\n",
       "      <td>17684.119135</td>\n",
       "      <td>19342.114922</td>\n",
       "      <td>22410.541959</td>\n",
       "      <td>17679.697222</td>\n",
       "      <td>17688.076434</td>\n",
       "      <td>3158.057036</td>\n",
       "      <td>3158.057036</td>\n",
       "      <td>3158.057036</td>\n",
       "      <td>3158.057036</td>\n",
       "      <td>3158.057036</td>\n",
       "      <td>3158.057036</td>\n",
       "      <td>0.0</td>\n",
       "      <td>0.0</td>\n",
       "      <td>0.0</td>\n",
       "      <td>20842.176172</td>\n",
       "    </tr>\n",
       "    <tr>\n",
       "      <th>3</th>\n",
       "      <td>1968-04-01</td>\n",
       "      <td>17731.975577</td>\n",
       "      <td>21543.708056</td>\n",
       "      <td>24424.405540</td>\n",
       "      <td>17723.161597</td>\n",
       "      <td>17738.960213</td>\n",
       "      <td>5268.703554</td>\n",
       "      <td>5268.703554</td>\n",
       "      <td>5268.703554</td>\n",
       "      <td>5268.703554</td>\n",
       "      <td>5268.703554</td>\n",
       "      <td>5268.703554</td>\n",
       "      <td>0.0</td>\n",
       "      <td>0.0</td>\n",
       "      <td>0.0</td>\n",
       "      <td>23000.679131</td>\n",
       "    </tr>\n",
       "    <tr>\n",
       "      <th>4</th>\n",
       "      <td>1968-05-01</td>\n",
       "      <td>17778.288263</td>\n",
       "      <td>21756.950921</td>\n",
       "      <td>24857.516521</td>\n",
       "      <td>17765.166953</td>\n",
       "      <td>17789.070108</td>\n",
       "      <td>5571.868897</td>\n",
       "      <td>5571.868897</td>\n",
       "      <td>5571.868897</td>\n",
       "      <td>5571.868897</td>\n",
       "      <td>5571.868897</td>\n",
       "      <td>5571.868897</td>\n",
       "      <td>0.0</td>\n",
       "      <td>0.0</td>\n",
       "      <td>0.0</td>\n",
       "      <td>23350.157159</td>\n",
       "    </tr>\n",
       "  </tbody>\n",
       "</table>\n",
       "</div>"
      ],
      "text/plain": [
       "          ds         trend    yhat_lower    yhat_upper   trend_lower  \\\n",
       "0 1968-01-01  17591.493764  12996.734851  16077.852457  17591.386779   \n",
       "1 1968-02-01  17639.350206  13403.617398  16492.647041  17637.649451   \n",
       "2 1968-03-01  17684.119135  19342.114922  22410.541959  17679.697222   \n",
       "3 1968-04-01  17731.975577  21543.708056  24424.405540  17723.161597   \n",
       "4 1968-05-01  17778.288263  21756.950921  24857.516521  17765.166953   \n",
       "\n",
       "    trend_upper  additive_terms  additive_terms_lower  additive_terms_upper  \\\n",
       "0  17591.694587    -3078.509368          -3078.509368          -3078.509368   \n",
       "1  17641.144495    -2708.444577          -2708.444577          -2708.444577   \n",
       "2  17688.076434     3158.057036           3158.057036           3158.057036   \n",
       "3  17738.960213     5268.703554           5268.703554           5268.703554   \n",
       "4  17789.070108     5571.868897           5571.868897           5571.868897   \n",
       "\n",
       "        yearly  yearly_lower  yearly_upper  multiplicative_terms  \\\n",
       "0 -3078.509368  -3078.509368  -3078.509368                   0.0   \n",
       "1 -2708.444577  -2708.444577  -2708.444577                   0.0   \n",
       "2  3158.057036   3158.057036   3158.057036                   0.0   \n",
       "3  5268.703554   5268.703554   5268.703554                   0.0   \n",
       "4  5571.868897   5571.868897   5571.868897                   0.0   \n",
       "\n",
       "   multiplicative_terms_lower  multiplicative_terms_upper          yhat  \n",
       "0                         0.0                         0.0  14512.984397  \n",
       "1                         0.0                         0.0  14930.905629  \n",
       "2                         0.0                         0.0  20842.176172  \n",
       "3                         0.0                         0.0  23000.679131  \n",
       "4                         0.0                         0.0  23350.157159  "
      ]
     },
     "execution_count": 19,
     "metadata": {},
     "output_type": "execute_result"
    }
   ],
   "source": [
    "y_pred.head()"
   ]
  },
  {
   "cell_type": "code",
   "execution_count": 20,
   "id": "c1e962ba",
   "metadata": {},
   "outputs": [],
   "source": [
    "yhat = y_pred['yhat'].values"
   ]
  },
  {
   "cell_type": "code",
   "execution_count": 21,
   "id": "4532520c",
   "metadata": {},
   "outputs": [
    {
     "data": {
      "text/plain": [
       "array([14512.98439689, 14930.90562927, 20842.17617187, 23000.67913103,\n",
       "       23350.15715933, 20972.26825767, 17359.53927678, 14785.20570325,\n",
       "       13521.40595927, 17058.06396199, 17418.70122152, 15808.94518601])"
      ]
     },
     "execution_count": 21,
     "metadata": {},
     "output_type": "execute_result"
    }
   ],
   "source": [
    "yhat"
   ]
  },
  {
   "cell_type": "markdown",
   "id": "1ef9900d",
   "metadata": {},
   "source": [
    "# 6.Evaluate Model"
   ]
  },
  {
   "cell_type": "markdown",
   "id": "0733a345",
   "metadata": {},
   "source": [
    "Calculate MAPE model"
   ]
  },
  {
   "cell_type": "code",
   "execution_count": 22,
   "id": "092144ad",
   "metadata": {},
   "outputs": [
    {
     "data": {
      "text/plain": [
       "0.07187183098630123"
      ]
     },
     "execution_count": 22,
     "metadata": {},
     "output_type": "execute_result"
    }
   ],
   "source": [
    "MAPE = mean_absolute_percentage_error(y_test, yhat)\n",
    "MAPE"
   ]
  }
 ],
 "metadata": {
  "kernelspec": {
   "display_name": "Python 3 (ipykernel)",
   "language": "python",
   "name": "python3"
  },
  "language_info": {
   "codemirror_mode": {
    "name": "ipython",
    "version": 3
   },
   "file_extension": ".py",
   "mimetype": "text/x-python",
   "name": "python",
   "nbconvert_exporter": "python",
   "pygments_lexer": "ipython3",
   "version": "3.9.12"
  }
 },
 "nbformat": 4,
 "nbformat_minor": 5
}
